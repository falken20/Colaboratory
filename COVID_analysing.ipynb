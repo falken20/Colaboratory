{
  "nbformat": 4,
  "nbformat_minor": 0,
  "metadata": {
    "colab": {
      "name": "COVID_analysing.ipynb",
      "provenance": [],
      "collapsed_sections": [],
      "authorship_tag": "ABX9TyNMbQyu/Ez+wJgtCPCBxBus",
      "include_colab_link": true
    },
    "kernelspec": {
      "name": "python3",
      "display_name": "Python 3"
    }
  },
  "cells": [
    {
      "cell_type": "markdown",
      "metadata": {
        "id": "view-in-github",
        "colab_type": "text"
      },
      "source": [
        "<a href=\"https://colab.research.google.com/github/falken20/Colaboratory/blob/master/COVID_analysing.ipynb\" target=\"_parent\"><img src=\"https://colab.research.google.com/assets/colab-badge.svg\" alt=\"Open In Colab\"/></a>"
      ]
    },
    {
      "cell_type": "code",
      "metadata": {
        "id": "utb6_1Pa2vot"
      },
      "source": [
        "#Import the neccesary libraries\n",
        "import pandas as pd\n",
        "import numpy as np\n",
        "from datetime import date"
      ],
      "execution_count": null,
      "outputs": []
    },
    {
      "cell_type": "code",
      "metadata": {
        "id": "NW_ffLZ53x_o",
        "outputId": "1f2323cc-7ff2-46ec-ae71-1c0e4eb2eb7f",
        "colab": {
          "base_uri": "https://localhost:8080/",
          "height": 34
        }
      },
      "source": [
        "# Get the number of the today day\n",
        "day = int(str(date.today())[-2:])\n",
        "print(day)"
      ],
      "execution_count": null,
      "outputs": [
        {
          "output_type": "stream",
          "text": [
            "21\n"
          ],
          "name": "stdout"
        }
      ]
    },
    {
      "cell_type": "code",
      "metadata": {
        "id": "3woV6gJu4Wc9"
      },
      "source": [
        "# Get the data for every month\n",
        "url = 'https://raw.githubusercontent.com/CSSEGISandData/COVID-19/master/csse_covid_19_data/csse_covid_19_daily_reports'\n",
        "list_urls = []\n",
        "# Add links for every day data in September\n",
        "for i in range(1, 31):\n",
        "    if i <= 9:\n",
        "        list_urls.append(str(url + f'/09-0{i}-2020.csv'))\n",
        "    else:\n",
        "        list_urls.append(str(url + f'/09-{i}-2020.csv'))\n",
        "# Add links for every day in the current month\n",
        "for i in range(1,day):\n",
        "    if i <= 9:\n",
        "        list_urls.append(str(url + f'/10-0{i}-2020.csv'))\n",
        "    else:\n",
        "        list_urls.append(str(url + f'/10-{i}-2020.csv'))"
      ],
      "execution_count": null,
      "outputs": []
    },
    {
      "cell_type": "code",
      "metadata": {
        "id": "Tej6GdUQwbwv",
        "outputId": "0d97ccce-84a9-4cde-f8e5-2e8be296fb1d",
        "colab": {
          "base_uri": "https://localhost:8080/",
          "height": 202
        }
      },
      "source": [
        "# Transform the urls in a dataframe and these in a list\n",
        "list_data = []\n",
        "for i in list_urls:\n",
        "  df = pd.read_csv(i)\n",
        "  df_spain = df[df['Country_Region'] == 'Spain'] \n",
        "  np.array(df_spain)\n",
        "  list_data.append(df_spain)\n",
        "list_data[3].head()"
      ],
      "execution_count": null,
      "outputs": [
        {
          "output_type": "execute_result",
          "data": {
            "text/html": [
              "<div>\n",
              "<style scoped>\n",
              "    .dataframe tbody tr th:only-of-type {\n",
              "        vertical-align: middle;\n",
              "    }\n",
              "\n",
              "    .dataframe tbody tr th {\n",
              "        vertical-align: top;\n",
              "    }\n",
              "\n",
              "    .dataframe thead th {\n",
              "        text-align: right;\n",
              "    }\n",
              "</style>\n",
              "<table border=\"1\" class=\"dataframe\">\n",
              "  <thead>\n",
              "    <tr style=\"text-align: right;\">\n",
              "      <th></th>\n",
              "      <th>FIPS</th>\n",
              "      <th>Admin2</th>\n",
              "      <th>Province_State</th>\n",
              "      <th>Country_Region</th>\n",
              "      <th>Last_Update</th>\n",
              "      <th>Lat</th>\n",
              "      <th>Long_</th>\n",
              "      <th>Confirmed</th>\n",
              "      <th>Deaths</th>\n",
              "      <th>Recovered</th>\n",
              "      <th>Active</th>\n",
              "      <th>Combined_Key</th>\n",
              "      <th>Incidence_Rate</th>\n",
              "      <th>Case-Fatality_Ratio</th>\n",
              "    </tr>\n",
              "  </thead>\n",
              "  <tbody>\n",
              "    <tr>\n",
              "      <th>576</th>\n",
              "      <td>NaN</td>\n",
              "      <td>NaN</td>\n",
              "      <td>Andalusia</td>\n",
              "      <td>Spain</td>\n",
              "      <td>2020-09-05 04:28:19</td>\n",
              "      <td>37.544300</td>\n",
              "      <td>-4.727800</td>\n",
              "      <td>33687</td>\n",
              "      <td>1516</td>\n",
              "      <td>10671</td>\n",
              "      <td>21500.0</td>\n",
              "      <td>Andalusia, Spain</td>\n",
              "      <td>399.731590</td>\n",
              "      <td>4.500252</td>\n",
              "    </tr>\n",
              "    <tr>\n",
              "      <th>577</th>\n",
              "      <td>NaN</td>\n",
              "      <td>NaN</td>\n",
              "      <td>Aragon</td>\n",
              "      <td>Spain</td>\n",
              "      <td>2020-09-05 04:28:19</td>\n",
              "      <td>41.597600</td>\n",
              "      <td>-0.905700</td>\n",
              "      <td>27493</td>\n",
              "      <td>1212</td>\n",
              "      <td>3772</td>\n",
              "      <td>22509.0</td>\n",
              "      <td>Aragon, Spain</td>\n",
              "      <td>2081.878802</td>\n",
              "      <td>4.408395</td>\n",
              "    </tr>\n",
              "    <tr>\n",
              "      <th>578</th>\n",
              "      <td>NaN</td>\n",
              "      <td>NaN</td>\n",
              "      <td>Asturias</td>\n",
              "      <td>Spain</td>\n",
              "      <td>2020-09-05 04:28:19</td>\n",
              "      <td>43.361400</td>\n",
              "      <td>-5.859300</td>\n",
              "      <td>3498</td>\n",
              "      <td>335</td>\n",
              "      <td>1063</td>\n",
              "      <td>2100.0</td>\n",
              "      <td>Asturias, Spain</td>\n",
              "      <td>342.201418</td>\n",
              "      <td>9.576901</td>\n",
              "    </tr>\n",
              "    <tr>\n",
              "      <th>579</th>\n",
              "      <td>NaN</td>\n",
              "      <td>NaN</td>\n",
              "      <td>Baleares</td>\n",
              "      <td>Spain</td>\n",
              "      <td>2020-09-05 04:28:19</td>\n",
              "      <td>39.710358</td>\n",
              "      <td>2.995148</td>\n",
              "      <td>9191</td>\n",
              "      <td>243</td>\n",
              "      <td>1533</td>\n",
              "      <td>7415.0</td>\n",
              "      <td>Baleares, Spain</td>\n",
              "      <td>773.509956</td>\n",
              "      <td>2.643891</td>\n",
              "    </tr>\n",
              "    <tr>\n",
              "      <th>580</th>\n",
              "      <td>NaN</td>\n",
              "      <td>NaN</td>\n",
              "      <td>C. Valenciana</td>\n",
              "      <td>Spain</td>\n",
              "      <td>2020-09-05 04:28:19</td>\n",
              "      <td>39.484000</td>\n",
              "      <td>-0.753300</td>\n",
              "      <td>26710</td>\n",
              "      <td>1478</td>\n",
              "      <td>9970</td>\n",
              "      <td>15262.0</td>\n",
              "      <td>C. Valenciana, Spain</td>\n",
              "      <td>536.887768</td>\n",
              "      <td>5.533508</td>\n",
              "    </tr>\n",
              "  </tbody>\n",
              "</table>\n",
              "</div>"
            ],
            "text/plain": [
              "     FIPS Admin2  ... Incidence_Rate Case-Fatality_Ratio\n",
              "576   NaN    NaN  ...     399.731590            4.500252\n",
              "577   NaN    NaN  ...    2081.878802            4.408395\n",
              "578   NaN    NaN  ...     342.201418            9.576901\n",
              "579   NaN    NaN  ...     773.509956            2.643891\n",
              "580   NaN    NaN  ...     536.887768            5.533508\n",
              "\n",
              "[5 rows x 14 columns]"
            ]
          },
          "metadata": {
            "tags": []
          },
          "execution_count": 4
        }
      ]
    },
    {
      "cell_type": "code",
      "metadata": {
        "id": "QYG6JJsOyf8d",
        "outputId": "abd95a0f-baaf-403e-96af-5732bb43d4ea",
        "colab": {
          "base_uri": "https://localhost:8080/",
          "height": 381
        }
      },
      "source": [
        "# Get the column info del DataFrame\n",
        "list_data[0].info()"
      ],
      "execution_count": null,
      "outputs": [
        {
          "output_type": "stream",
          "text": [
            "<class 'pandas.core.frame.DataFrame'>\n",
            "Int64Index: 20 entries, 576 to 595\n",
            "Data columns (total 14 columns):\n",
            " #   Column               Non-Null Count  Dtype  \n",
            "---  ------               --------------  -----  \n",
            " 0   FIPS                 0 non-null      float64\n",
            " 1   Admin2               0 non-null      object \n",
            " 2   Province_State       20 non-null     object \n",
            " 3   Country_Region       20 non-null     object \n",
            " 4   Last_Update          20 non-null     object \n",
            " 5   Lat                  19 non-null     float64\n",
            " 6   Long_                19 non-null     float64\n",
            " 7   Confirmed            20 non-null     int64  \n",
            " 8   Deaths               20 non-null     int64  \n",
            " 9   Recovered            20 non-null     int64  \n",
            " 10  Active               20 non-null     float64\n",
            " 11  Combined_Key         20 non-null     object \n",
            " 12  Incidence_Rate       19 non-null     float64\n",
            " 13  Case-Fatality_Ratio  19 non-null     float64\n",
            "dtypes: float64(6), int64(3), object(5)\n",
            "memory usage: 2.3+ KB\n"
          ],
          "name": "stdout"
        }
      ]
    },
    {
      "cell_type": "code",
      "metadata": {
        "id": "uK_y0rFCznuQ",
        "outputId": "9cab07bc-2eba-42a6-e98a-9cb514e8e0bc",
        "colab": {
          "base_uri": "https://localhost:8080/",
          "height": 294
        }
      },
      "source": [
        "# Generate descriptive statistics, round to 2 decimals\n",
        "round(list_data[0].describe(), 2)"
      ],
      "execution_count": null,
      "outputs": [
        {
          "output_type": "execute_result",
          "data": {
            "text/html": [
              "<div>\n",
              "<style scoped>\n",
              "    .dataframe tbody tr th:only-of-type {\n",
              "        vertical-align: middle;\n",
              "    }\n",
              "\n",
              "    .dataframe tbody tr th {\n",
              "        vertical-align: top;\n",
              "    }\n",
              "\n",
              "    .dataframe thead th {\n",
              "        text-align: right;\n",
              "    }\n",
              "</style>\n",
              "<table border=\"1\" class=\"dataframe\">\n",
              "  <thead>\n",
              "    <tr style=\"text-align: right;\">\n",
              "      <th></th>\n",
              "      <th>FIPS</th>\n",
              "      <th>Lat</th>\n",
              "      <th>Long_</th>\n",
              "      <th>Confirmed</th>\n",
              "      <th>Deaths</th>\n",
              "      <th>Recovered</th>\n",
              "      <th>Active</th>\n",
              "      <th>Incidence_Rate</th>\n",
              "      <th>Case-Fatality_Ratio</th>\n",
              "    </tr>\n",
              "  </thead>\n",
              "  <tbody>\n",
              "    <tr>\n",
              "      <th>count</th>\n",
              "      <td>0.0</td>\n",
              "      <td>19.00</td>\n",
              "      <td>19.00</td>\n",
              "      <td>20.00</td>\n",
              "      <td>20.00</td>\n",
              "      <td>20.00</td>\n",
              "      <td>20.00</td>\n",
              "      <td>19.00</td>\n",
              "      <td>19.00</td>\n",
              "    </tr>\n",
              "    <tr>\n",
              "      <th>mean</th>\n",
              "      <td>NaN</td>\n",
              "      <td>39.76</td>\n",
              "      <td>-3.68</td>\n",
              "      <td>23548.65</td>\n",
              "      <td>1457.60</td>\n",
              "      <td>7518.80</td>\n",
              "      <td>14572.25</td>\n",
              "      <td>935.82</td>\n",
              "      <td>5.57</td>\n",
              "    </tr>\n",
              "    <tr>\n",
              "      <th>std</th>\n",
              "      <td>NaN</td>\n",
              "      <td>3.68</td>\n",
              "      <td>4.11</td>\n",
              "      <td>34634.01</td>\n",
              "      <td>2205.54</td>\n",
              "      <td>10139.45</td>\n",
              "      <td>22950.31</td>\n",
              "      <td>604.11</td>\n",
              "      <td>3.18</td>\n",
              "    </tr>\n",
              "    <tr>\n",
              "      <th>min</th>\n",
              "      <td>NaN</td>\n",
              "      <td>28.29</td>\n",
              "      <td>-16.63</td>\n",
              "      <td>0.00</td>\n",
              "      <td>0.00</td>\n",
              "      <td>0.00</td>\n",
              "      <td>0.00</td>\n",
              "      <td>328.11</td>\n",
              "      <td>0.56</td>\n",
              "    </tr>\n",
              "    <tr>\n",
              "      <th>25%</th>\n",
              "      <td>NaN</td>\n",
              "      <td>38.64</td>\n",
              "      <td>-5.02</td>\n",
              "      <td>4918.25</td>\n",
              "      <td>209.25</td>\n",
              "      <td>1536.00</td>\n",
              "      <td>1973.25</td>\n",
              "      <td>429.26</td>\n",
              "      <td>3.48</td>\n",
              "    </tr>\n",
              "    <tr>\n",
              "      <th>50%</th>\n",
              "      <td>NaN</td>\n",
              "      <td>40.42</td>\n",
              "      <td>-3.10</td>\n",
              "      <td>9236.00</td>\n",
              "      <td>531.00</td>\n",
              "      <td>3439.50</td>\n",
              "      <td>5643.00</td>\n",
              "      <td>701.64</td>\n",
              "      <td>5.23</td>\n",
              "    </tr>\n",
              "    <tr>\n",
              "      <th>75%</th>\n",
              "      <td>NaN</td>\n",
              "      <td>42.43</td>\n",
              "      <td>-1.40</td>\n",
              "      <td>27292.75</td>\n",
              "      <td>1519.75</td>\n",
              "      <td>9395.50</td>\n",
              "      <td>15464.25</td>\n",
              "      <td>1424.50</td>\n",
              "      <td>6.59</td>\n",
              "    </tr>\n",
              "    <tr>\n",
              "      <th>max</th>\n",
              "      <td>NaN</td>\n",
              "      <td>43.36</td>\n",
              "      <td>3.00</td>\n",
              "      <td>128178.00</td>\n",
              "      <td>8662.00</td>\n",
              "      <td>40736.00</td>\n",
              "      <td>78780.00</td>\n",
              "      <td>2017.36</td>\n",
              "      <td>12.60</td>\n",
              "    </tr>\n",
              "  </tbody>\n",
              "</table>\n",
              "</div>"
            ],
            "text/plain": [
              "       FIPS    Lat  Long_  ...    Active  Incidence_Rate  Case-Fatality_Ratio\n",
              "count   0.0  19.00  19.00  ...     20.00           19.00                19.00\n",
              "mean    NaN  39.76  -3.68  ...  14572.25          935.82                 5.57\n",
              "std     NaN   3.68   4.11  ...  22950.31          604.11                 3.18\n",
              "min     NaN  28.29 -16.63  ...      0.00          328.11                 0.56\n",
              "25%     NaN  38.64  -5.02  ...   1973.25          429.26                 3.48\n",
              "50%     NaN  40.42  -3.10  ...   5643.00          701.64                 5.23\n",
              "75%     NaN  42.43  -1.40  ...  15464.25         1424.50                 6.59\n",
              "max     NaN  43.36   3.00  ...  78780.00         2017.36                12.60\n",
              "\n",
              "[8 rows x 9 columns]"
            ]
          },
          "metadata": {
            "tags": []
          },
          "execution_count": 10
        }
      ]
    },
    {
      "cell_type": "code",
      "metadata": {
        "id": "lzQbeEDe5973",
        "outputId": "77104370-2a2f-4334-f4e8-ab3e59c6d8cb",
        "colab": {
          "base_uri": "https://localhost:8080/",
          "height": 89
        }
      },
      "source": [
        "# Create the lists for the graphs\n",
        "list_dead_cases = []\n",
        "list_confirmed_cases = []\n",
        "list_recovered_cases = []\n",
        "\n",
        "# Sum the number of cases in every day\n",
        "for i in range(0, len(list_data)):\n",
        "  list_dead_cases.append((list_data[i]['Deaths']).sum())\n",
        "  list_confirmed_cases.append((list_data[i]['Confirmed']).sum())\n",
        "  list_recovered_cases.append((list_data[i]['Recovered']).sum())\n",
        "\n",
        "print(len(list_dead_cases), list_dead_cases)\n",
        "print(len(list_confirmed_cases), list_confirmed_cases)\n",
        "print(len(list_recovered_cases), list_recovered_cases)"
      ],
      "execution_count": null,
      "outputs": [
        {
          "output_type": "stream",
          "text": [
            "50 [29152, 29194, 29234, 29418, 29418, 29418, 29516, 29594, 29628, 29699, 29747, 29747, 29747, 29848, 30004, 30243, 30405, 30495, 30495, 30495, 30663, 30904, 31034, 31118, 31232, 31232, 31232, 31411, 31411, 31791, 31973, 32086, 32086, 32086, 32225, 32486, 32562, 32688, 32929, 32929, 32929, 33124, 33204, 33413, 33553, 33775, 33775, 33775, 33992, 34210]\n",
            "50 [470973, 479554, 488513, 498989, 498989, 498989, 525549, 534513, 543379, 554143, 566326, 566326, 566326, 593730, 603167, 614360, 625651, 640040, 640040, 640040, 671468, 682267, 693556, 704209, 716481, 716481, 716481, 748266, 748266, 769188, 778607, 789932, 789932, 789932, 813412, 825410, 835901, 848324, 861112, 861112, 861112, 888968, 896086, 908056, 921374, 936560, 936560, 936560, 974449, 988322]\n",
            "50 [150376, 150376, 150376, 150376, 150376, 150376, 150376, 150376, 150376, 150376, 150376, 150376, 150376, 150376, 150376, 150376, 150376, 150376, 150376, 150376, 150376, 150376, 150376, 150376, 150376, 150376, 150376, 150376, 150376, 150376, 150376, 150376, 150376, 150376, 150376, 150376, 150376, 150376, 150376, 150376, 150376, 150376, 150376, 150376, 150376, 150376, 150376, 150376, 150376, 150376]\n"
          ],
          "name": "stdout"
        }
      ]
    },
    {
      "cell_type": "code",
      "metadata": {
        "id": "-femCzpL9rhY",
        "outputId": "96daad60-0602-406c-c9f7-0e2aead90326",
        "colab": {
          "base_uri": "https://localhost:8080/",
          "height": 481
        }
      },
      "source": [
        "# Create the graph\n",
        "from matplotlib import pyplot as plt\n",
        "x = [i for i in range(0, len(list_dead_cases))]\n",
        "plt.style.use('seaborn-talk')\n",
        "plt.plot(x, list_dead_cases, color='red', label='Dead cases', linewidth=1.0)\n",
        "plt.plot(x, list_confirmed_cases, color='green', label='Confirmed cases', linewidth=1.0)\n",
        "plt.plot(x, list_recovered_cases, color='blue', label='Recovered cases', linewidth=1.0)\n",
        "plt.xlabel('Days')\n",
        "plt.ylabel('People number')\n",
        "plt.title('COVID-19 evolution in Spain')\n",
        "plt.grid(True)\n",
        "plt.legend(loc='upper left')\n",
        "# plt.savefig('corona.png')\n",
        "plt.show()"
      ],
      "execution_count": null,
      "outputs": [
        {
          "output_type": "display_data",
          "data": {
            "image/png": "[encoded data removed]",
            "text/plain": [
              "<Figure size 748.8x514.8 with 1 Axes>"
            ]
          },
          "metadata": {
            "tags": [],
            "needs_background": "light"
          }
        }
      ]
    },
    {
      "cell_type": "code",
      "metadata": {
        "id": "WS1dKFv81Hlt"
      },
      "source": [
        "# Create a heat map with the values\n",
        "import folium\n",
        "import math\n",
        "from folium.plugins import HeatMap\n",
        "mapa = folium.Map(location=[43,0], zoom_start=5, tiles='Stamen Toner', width='50%', height='80%')\n",
        "locais = []\n",
        "\n",
        "for c in range(0, len(list_data)):\n",
        "    for lat,lon in zip(list_data[c]['Lat'], list_data[c]['Long_']):\n",
        "        if math.isnan(lat) == True or math.isnan(lon) == True:\n",
        "            pass\n",
        "        else:\n",
        "            temp = [lat,lon]\n",
        "            locais.append(temp)\n",
        "\n",
        "\n",
        "HeatMap(locais, radius=16).add_to(mapa)\n",
        "mapa.save('corona_mapa.html')"
      ],
      "execution_count": 51,
      "outputs": []
    },
    {
      "cell_type": "code",
      "metadata": {
        "id": "1C7CRXu51f7Y",
        "outputId": "678909f2-5d8d-4874-e1dd-b8223589ee12",
        "colab": {
          "base_uri": "https://localhost:8080/",
          "height": 1000
        }
      },
      "source": [
        "mapa"
      ],
      "execution_count": 52,
      "outputs": [
        {
          "output_type": "execute_result",
          "data": {
            "text/html": [
              "<div style=\"width:100%;\"><div style=\"position:relative;width:100%;height:0;padding-bottom:60%;\"><span style=\"color:#565656\">Make this Notebook Trusted to load map: File -> Trust Notebook</span><iframe src=\"about:blank\" style=\"position:absolute;width:100%;height:100%;left:0;top:0;border:none !important;\" data-html=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 onload=\"this.contentDocument.open();this.contentDocument.write(atob(this.getAttribute('data-html')));this.contentDocument.close();\" allowfullscreen webkitallowfullscreen mozallowfullscreen></iframe></div></div>"
            ],
            "text/plain": [
              "<folium.folium.Map at 0x7f17ef0cadd8>"
            ]
          },
          "metadata": {
            "tags": []
          },
          "execution_count": 52
        }
      ]
    }
  ]
}