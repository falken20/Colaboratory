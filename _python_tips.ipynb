{
  "nbformat": 4,
  "nbformat_minor": 0,
  "metadata": {
    "colab": {
      "provenance": [],
      "collapsed_sections": [
        "Yr68csHGDdFf",
        "9yWtd40ZGqgC"
      ],
      "authorship_tag": "ABX9TyMzRn14yj0cV3TJdl1QKlIS",
      "include_colab_link": true
    },
    "kernelspec": {
      "name": "python3",
      "display_name": "Python 3"
    },
    "language_info": {
      "name": "python"
    }
  },
  "cells": [
    {
      "cell_type": "markdown",
      "metadata": {
        "id": "view-in-github",
        "colab_type": "text"
      },
      "source": [
        "<a href=\"https://colab.research.google.com/github/falken20/_colab_projects/blob/master/_python_tips.ipynb\" target=\"_parent\"><img src=\"https://colab.research.google.com/assets/colab-badge.svg\" alt=\"Open In Colab\"/></a>"
      ]
    },
    {
      "cell_type": "markdown",
      "source": [
        "# **Python Examples**\n",
        "\n",
        "* Remove image background  \n",
        "* Encryption at Rest with SQLAlchemy\n",
        "*   Create audio book\n",
        "\n"
      ],
      "metadata": {
        "id": "tQtXsT881o1E"
      }
    },
    {
      "cell_type": "markdown",
      "source": [
        "# Remove image background"
      ],
      "metadata": {
        "id": "uC6-sB260-uj"
      }
    },
    {
      "cell_type": "code",
      "source": [
        "!pip install rembg\n",
        "!pip install onnxruntime"
      ],
      "metadata": {
        "id": "r9Jh6CLx1Bz1"
      },
      "execution_count": null,
      "outputs": []
    },
    {
      "cell_type": "code",
      "source": [
        "from rembg import remove\n",
        "from PIL import Image\n",
        "\n",
        "input_path = 'image.jpeg'\n",
        "output_path = 'image.png'\n",
        "\n",
        "image = Image.open(input_path)\n",
        "image\n",
        "\n",
        "image_output = remove(image)\n",
        "image_output.save(output_path)\n",
        "\n",
        "Image.open('image.png')"
      ],
      "metadata": {
        "id": "3xjj01h21GFI"
      },
      "execution_count": null,
      "outputs": []
    },
    {
      "cell_type": "markdown",
      "source": [
        "# Encryption at Rest with SQLAlchemy"
      ],
      "metadata": {
        "id": "Yr68csHGDdFf"
      }
    },
    {
      "cell_type": "code",
      "source": [
        "!pip install cryptography"
      ],
      "metadata": {
        "id": "_FdRzKkKEaAf"
      },
      "execution_count": null,
      "outputs": []
    },
    {
      "cell_type": "code",
      "source": [
        "!pip install dotenv"
      ],
      "metadata": {
        "colab": {
          "base_uri": "https://localhost:8080/"
        },
        "collapsed": true,
        "id": "V2UFXgGZNOA4",
        "outputId": "47aa3cbf-999e-4ffb-bc5b-67fb6446f288"
      },
      "execution_count": 8,
      "outputs": [
        {
          "output_type": "stream",
          "name": "stdout",
          "text": [
            "Collecting dotenv\n",
            "  Using cached dotenv-0.0.5.tar.gz (2.4 kB)\n",
            "  \u001b[1;31merror\u001b[0m: \u001b[1msubprocess-exited-with-error\u001b[0m\n",
            "  \n",
            "  \u001b[31m×\u001b[0m \u001b[32mpython setup.py egg_info\u001b[0m did not run successfully.\n",
            "  \u001b[31m│\u001b[0m exit code: \u001b[1;36m1\u001b[0m\n",
            "  \u001b[31m╰─>\u001b[0m See above for output.\n",
            "  \n",
            "  \u001b[1;35mnote\u001b[0m: This error originates from a subprocess, and is likely not a problem with pip.\n",
            "  Preparing metadata (setup.py) ... \u001b[?25l\u001b[?25herror\n",
            "\u001b[1;31merror\u001b[0m: \u001b[1mmetadata-generation-failed\u001b[0m\n",
            "\n",
            "\u001b[31m×\u001b[0m Encountered error while generating package metadata.\n",
            "\u001b[31m╰─>\u001b[0m See above for output.\n",
            "\n",
            "\u001b[1;35mnote\u001b[0m: This is an issue with the package mentioned above, not pip.\n",
            "\u001b[1;36mhint\u001b[0m: See above for details.\n"
          ]
        }
      ]
    },
    {
      "cell_type": "code",
      "source": [
        "# Program to descrypt\n",
        "\n",
        "import os\n",
        "import sys\n",
        "from cryptography.fernet import Fernet\n",
        "# from dotenv import load_dotenv\n",
        "\n",
        "# load_dotenv()\n",
        "\n",
        "# Generate an encryption key\n",
        "encryption_key = Fernet.generate_key().decode()\n",
        "print(f\"ENCRYPTION_KEY={encryption_key}\")\n",
        "\n",
        "# encryption_key = os.environ['ENCRYPTION_KEY']\n",
        "# text_to_encrypt = sys.argv[1]\n",
        "text_to_encrypt = \"example_text_to_encrypt\"\n",
        "print(f\"Text to encrypt: {text_to_encrypt}\")\n",
        "\n",
        "fernet = Fernet(encryption_key.encode())\n",
        "encrypted = fernet.encrypt(text_to_encrypt.encode())\n",
        "\n",
        "print(f\"Encrypted code: {encrypted.decode()}\")\n",
        "\n",
        "print(f\"Decrypt code: {fernet.decrypt(encrypted)}\")"
      ],
      "metadata": {
        "colab": {
          "base_uri": "https://localhost:8080/"
        },
        "id": "56oj7cZPM8wp",
        "outputId": "92ac52ab-e6c0-4cb5-988f-321089d017bc"
      },
      "execution_count": 18,
      "outputs": [
        {
          "output_type": "stream",
          "name": "stdout",
          "text": [
            "ENCRYPTION_KEY=iYOlqQ4uszgB8gTrJl118a-u_ZgQhQDvI8WLq11X8A4=\n",
            "Text to encrypt: example_text_to_encrypt\n",
            "Encrypted code: gAAAAABnmnVMzNmUSiZq-qqApnRD5yojHcxoH8DQG3mRDToIhtb0U7XBXU8n4HFo8SMjc-Y0Z2l5zNXOTW2G_g2H7SqW19URtg0PkAcU10YNANmva76NDcw=\n",
            "Decrypt code: b'example_text_to_encrypt'\n"
          ]
        }
      ]
    },
    {
      "cell_type": "markdown",
      "source": [
        "# Create audio book"
      ],
      "metadata": {
        "id": "9yWtd40ZGqgC"
      }
    },
    {
      "cell_type": "code",
      "source": [
        "!pip install gTTS"
      ],
      "metadata": {
        "colab": {
          "base_uri": "https://localhost:8080/"
        },
        "collapsed": true,
        "id": "ixhyW5hhG7jy",
        "outputId": "f738ab65-d96b-4013-89a2-dd139eec7d80"
      },
      "execution_count": 1,
      "outputs": [
        {
          "output_type": "stream",
          "name": "stdout",
          "text": [
            "Collecting gTTS\n",
            "  Downloading gTTS-2.5.4-py3-none-any.whl.metadata (4.1 kB)\n",
            "Requirement already satisfied: requests<3,>=2.27 in /usr/local/lib/python3.11/dist-packages (from gTTS) (2.32.3)\n",
            "Requirement already satisfied: click<8.2,>=7.1 in /usr/local/lib/python3.11/dist-packages (from gTTS) (8.1.8)\n",
            "Requirement already satisfied: charset-normalizer<4,>=2 in /usr/local/lib/python3.11/dist-packages (from requests<3,>=2.27->gTTS) (3.4.1)\n",
            "Requirement already satisfied: idna<4,>=2.5 in /usr/local/lib/python3.11/dist-packages (from requests<3,>=2.27->gTTS) (3.10)\n",
            "Requirement already satisfied: urllib3<3,>=1.21.1 in /usr/local/lib/python3.11/dist-packages (from requests<3,>=2.27->gTTS) (2.3.0)\n",
            "Requirement already satisfied: certifi>=2017.4.17 in /usr/local/lib/python3.11/dist-packages (from requests<3,>=2.27->gTTS) (2024.12.14)\n",
            "Downloading gTTS-2.5.4-py3-none-any.whl (29 kB)\n",
            "Installing collected packages: gTTS\n",
            "Successfully installed gTTS-2.5.4\n"
          ]
        }
      ]
    },
    {
      "cell_type": "code",
      "source": [
        "from gtts import gTTS\n",
        "import os\n",
        "\n",
        "def create_audiobook(text_file, audio_file):\n",
        "  with open(text_file, 'r', encoding='utf-8') as file:\n",
        "    text = file.read()\n",
        "  print(f\"Creating audio from {text_file} with {len(text)} characters\")\n",
        "\n",
        "  tts = gTTS(text=text, lang='en')\n",
        "  tts.save(audio_file)\n",
        "\n",
        "  print(f\"Audiobook saved as {audio_file}\")\n",
        "\n",
        "\n",
        "# Example\n",
        "text_file = \"book.txt\"\n",
        "audio_file = \"audiobook.mp3\"\n",
        "\n",
        "create_audiobook(text_file=text_file, audio_file=audio_file)\n",
        "# Play the audio\n",
        "print(f\"Playing the audio {audio_file} with OS default program\")\n",
        "os.system(f\"start {audio_file}\")\n",
        "\n"
      ],
      "metadata": {
        "colab": {
          "base_uri": "https://localhost:8080/"
        },
        "id": "-wdNaoEsHPUt",
        "outputId": "35b24f8e-a536-459e-b408-55f148373e70"
      },
      "execution_count": 6,
      "outputs": [
        {
          "output_type": "stream",
          "name": "stdout",
          "text": [
            "Creating audio from book.txt with 22 characters\n",
            "Audiobook saved as audiobook.mp3\n",
            "Playing the audio audiobook.mp3 with os default program\n"
          ]
        },
        {
          "output_type": "execute_result",
          "data": {
            "text/plain": [
              "32512"
            ]
          },
          "metadata": {},
          "execution_count": 6
        }
      ]
    }
  ]
}